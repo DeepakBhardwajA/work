{
 "cells": [
  {
   "cell_type": "code",
   "execution_count": null,
   "metadata": {},
   "outputs": [],
   "source": [
    "%matplotlib inline\n",
    "import matplotlib.pyplot as plt\n",
    "import pandas as pd\n",
    "import seaborn as sns\n",
    "import matplotlib\n",
    "import numpy as np\n",
    "#sns.set(font_scale=1.5, style=\"ticks)\""
   ]
  },
  {
   "cell_type": "code",
   "execution_count": 7,
   "metadata": {},
   "outputs": [],
   "source": [
    "def select_and_rename(df, mapping):\n",
    "    \"\"\"\n",
    "    Helper: Selects columns of df using the keys\n",
    "    of the mapping dict.\n",
    "    It renames the columns to the values of the\n",
    "    mappings dict.\n",
    "    \"\"\"\n",
    "    # select subset of columns\n",
    "    dff = df[list(mapping.keys())]\n",
    "    # rename \n",
    "    for k, v in mapping.items():\n",
    "        #print(\"Renaming: {} -> {}\".format(k, v))\n",
    "        dff.rename(columns={k: v}, inplace=True)\n",
    "    #print(dff.head())\n",
    "    return dff"
   ]
  },
  {
   "cell_type": "code",
   "execution_count": 9,
   "metadata": {},
   "outputs": [],
   "source": [
    "df=pd.read_csv(\"result_ec_metrics.csv\")"
   ]
  },
  {
   "cell_type": "code",
   "execution_count": null,
   "metadata": {},
   "outputs": [],
   "source": [
    "df.columns.tolist()  #df.head"
   ]
  },
  {
   "cell_type": "code",
   "execution_count": null,
   "metadata": {},
   "outputs": [],
   "source": [
    "def cleanup(df):\n",
    "    \"\"\"\n",
    "    Cleanup of df data.\n",
    "    Dataset specific.\n",
    "    \"\"\"\n",
    "    def _replace(df, column, str1, str2):\n",
    "        if column in df:\n",
    "            df[column] = df[column].str.replace(str1, str2)\n",
    "            \n",
    "    def _to_num(df, column):\n",
    "        if column in df:\n",
    "            df[column] = pd.to_numeric(df[column])\n",
    "        \n",
    "    #_replace(df, \"req_size\", \"ab -c 1 -t 60 -n 50000 -e /tngbench_share/ab_logs.csv -s 60 -k -i http://20.0.0.254:80/\", \"-\")"
   ]
  },
  {
   "cell_type": "code",
   "execution_count": null,
   "metadata": {},
   "outputs": [],
   "source": [
    "\n",
    "df[\"vnf\"] = \"openims\"\n",
    "\n",
    "dfs_raw = [df]\n",
    "map_list = [openims_map_01]\n",
    "dfs = list()  # clean data frames\n",
    "\n",
    "for (df, m) in zip(dfs_raw, map_list):\n",
    "    tmp = select_and_rename(df.copy(), m)\n",
    "    #cleanup(tmp)\n",
    "    dfs.append(tmp)\n",
    "\n",
    "dfs[0].head(15)"
   ]
  },
  {
   "cell_type": "code",
   "execution_count": null,
   "metadata": {},
   "outputs": [],
   "source": [
    "dfs[0].tail(15)"
   ]
  },
  {
   "cell_type": "code",
   "execution_count": null,
   "metadata": {},
   "outputs": [],
   "source": [
    "df01 = select_and_rename(df, openims_map_01)"
   ]
  },
  {
   "cell_type": "code",
   "execution_count": null,
   "metadata": {},
   "outputs": [],
   "source": [
    "metrics =  [\"\"]\n",
    "hue_col = \"vnf_memory\"\n",
    "x_col = \"cpu\"\n",
    "#dff = df01.loc[df01[\"memory\"] == 1024]\n",
    "#dff = dff.loc[dff[\"ruleset\"] == \"big\"]\n",
    "#dff = dff.loc[dff[x_col] >= .5]\n",
    "for m in metrics:\n",
    "    sns.catplot(x=x_col, y=m, hue=hue_col, data=df01, kind=\"strip\", height=4, aspect=1, linewidth=1)"
   ]
  },
  {
   "cell_type": "code",
   "execution_count": null,
   "metadata": {},
   "outputs": [],
   "source": [
    "metrics =  [\"Radius-Auth-Response\", \"Probe-Radius-Auth-Response\"]\n",
    "hue_col = \"memory\"\n",
    "x_col = \"cpu_bw\"\n",
    "\n",
    "#dff = df01.loc[df01[\"memory\"] == 1024]\n",
    "#dff = dff.loc[dff[\"ruleset\"] == \"big\"]\n",
    "#dff = dff.loc[dff[x_col] >= .5]\n",
    "\n",
    "for m in metrics:\n",
    "    sns.lmplot(x=x_col, y=m, hue=hue_col, data=df01)"
   ]
  }
 ],
 "metadata": {
  "kernelspec": {
   "display_name": "Python 3",
   "language": "python",
   "name": "python3"
  },
  "language_info": {
   "codemirror_mode": {
    "name": "ipython",
    "version": 3
   },
   "file_extension": ".py",
   "mimetype": "text/x-python",
   "name": "python",
   "nbconvert_exporter": "python",
   "pygments_lexer": "ipython3",
   "version": "3.7.4"
  }
 },
 "nbformat": 4,
 "nbformat_minor": 2
}
